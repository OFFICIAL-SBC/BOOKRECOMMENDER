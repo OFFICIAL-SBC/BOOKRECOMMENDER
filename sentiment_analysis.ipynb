{
 "cells": [
  {
   "cell_type": "markdown",
   "id": "94f8a7c7",
   "metadata": {},
   "source": [
    "Now I pretend to perform a sentiment analysis to determine the emotional tone of the books and also the emotional tone of the query. So we can allow our users "
   ]
  }
 ],
 "metadata": {
  "kernelspec": {
   "display_name": "bookrecommender",
   "language": "python",
   "name": "python3"
  },
  "language_info": {
   "name": "python",
   "version": "3.12.11"
  }
 },
 "nbformat": 4,
 "nbformat_minor": 5
}
